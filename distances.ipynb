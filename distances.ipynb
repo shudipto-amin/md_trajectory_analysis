{
 "cells": [
  {
   "cell_type": "code",
   "execution_count": null,
   "metadata": {},
   "outputs": [],
   "source": [
    "import MDAnalysis as mda\n",
    "import numpy as np\n",
    "import matplotlib as mpl\n",
    "import matplotlib.pyplot as pp\n",
    "import analyse as ana\n",
    "from scipy.stats import gaussian_kde as kde\n",
    "from IPython.display import display, Markdown, Latex\n",
    "from matplotlib.ticker import FormatStrFormatter\n",
    "%matplotlib notebook"
   ]
  },
  {
   "cell_type": "code",
   "execution_count": null,
   "metadata": {},
   "outputs": [],
   "source": [
    "resid_offset = 1 # output (Simulation) resid minus input (NMR) resid\n",
    "\n",
    "### Parameter sets\n",
    "\n",
    "parsets = [\n",
    "   'CTPOL', 'opt-CTPOL'\n",
    "]\n",
    "\n",
    "ref = 'trajectories/input.pdb'\n",
    "\n",
    "### Inputs for angle calculating function\n",
    "\n",
    "inputs = [\n",
    "    dict(\n",
    "        dist_label = \"S4-Zn\",\n",
    "        selections = [\n",
    "            dict(name='SG', resid=4),\n",
    "            dict(name='ZN')\n",
    "        ]\n",
    "    ),\n",
    "    dict(\n",
    "        dist_label = \"S7-Zn\",\n",
    "        selections = [\n",
    "            dict(name='SG', resid=7),\n",
    "            dict(name='ZN')\n",
    "        ]\n",
    "    ),\n",
    "    dict(\n",
    "        dist_label = \"N20-Zn\",\n",
    "        selections = [\n",
    "            dict(name='NE2', resid=20),\n",
    "            dict(name='ZN')\n",
    "        ]\n",
    "    ),\n",
    "    dict(\n",
    "        dist_label = \"N24-Zn\",\n",
    "        selections = [\n",
    "            dict(name='NE2', resid=24),\n",
    "            dict(name='ZN')\n",
    "        ]\n",
    "    )\n",
    "]\n",
    "\n",
    "xpad = 0.1\n",
    "\n",
    "### Get Universes\n",
    "\n",
    "\n",
    "unis = dict(NMR=ana.Universe(ref, ref))\n",
    "for par in parsets:\n",
    "    dcd = f\"trajectories/MD-1ZNF/{par}/centered_output.dcd\"\n",
    "    unis[par] = ana.Universe('output.pdb', dcd)"
   ]
  },
  {
   "cell_type": "code",
   "execution_count": null,
   "metadata": {},
   "outputs": [],
   "source": [
    "### Plot\n",
    "\n",
    "def plot(unis, inputs):\n",
    "    fig, axes = pp.subplots(2,2, sharex=True, sharey=False)\n",
    "    fig.suptitle(\"Probability distribution of distances (in Angstroms)\")   \n",
    "\n",
    "\n",
    "    fig.set_size_inches(7,5)\n",
    "    fig.tight_layout()\n",
    "    fig.subplots_adjust(\n",
    "        wspace=0.05, right=0.95\n",
    "    )\n",
    "    for n, inp in enumerate(inputs):\n",
    "        ax = axes.flatten()[n]\n",
    "        ax.set_title(inp['dist_label'])\n",
    "        for par, uni in unis.items():\n",
    "            #display(Markdown(f'## {par}'))\n",
    "            sels = []\n",
    "            for s in inp['selections']:\n",
    "                sel = s.copy()\n",
    "                if 'resid' in sel:\n",
    "                    sel['resid'] -= (par == 'NMR')*resid_offset\n",
    "                seltxt = ' and '.join(\n",
    "                    [f'{k} {v}' for k, v in sel.items()]\n",
    "                )\n",
    "                sels.append(uni.select_atoms(seltxt))\n",
    "\n",
    "\n",
    "            dists = uni.get_distances(*sels)\n",
    "            dists = dists.flatten()\n",
    "\n",
    "            _, bins = np.histogram(dists)\n",
    "\n",
    "            distrange = np.linspace(bins[0] - xpad, bins[-1] + xpad, 200)\n",
    "\n",
    "            kwargs = dict(label=par)\n",
    "            if par == 'NMR': \n",
    "                kwargs['color'] = 'k'\n",
    "                kwargs['linestyle'] = '--'\n",
    "\n",
    "            lines = ax.plot(distrange, kde(dists)(distrange), **kwargs)\n",
    "\n",
    "            mean = np.mean(dists)\n",
    "            kwargs['color'] = lines[-1].get_color()\n",
    "            kwargs['label'] = None\n",
    "            ax.axvline(mean, **kwargs)\n",
    "        ax.set_ylim(0, None)\n",
    "        if n%2:\n",
    "            ax.yaxis.tick_right()\n",
    "            \n",
    "    return fig, axes"
   ]
  },
  {
   "cell_type": "code",
   "execution_count": null,
   "metadata": {},
   "outputs": [],
   "source": [
    "fig, axes = plot(unis, inputs)\n"
   ]
  },
  {
   "cell_type": "code",
   "execution_count": null,
   "metadata": {},
   "outputs": [],
   "source": [
    "pp.gca().set_xlim(1.5,2.5)\n",
    "axes[-1][-1].legend()"
   ]
  },
  {
   "cell_type": "code",
   "execution_count": null,
   "metadata": {},
   "outputs": [],
   "source": [
    "fig.savefig(\"Distance_distributions_from_Zn.png\")"
   ]
  },
  {
   "cell_type": "markdown",
   "metadata": {},
   "source": [
    "# Cross distances (S-S, N-N, etc)"
   ]
  },
  {
   "cell_type": "code",
   "execution_count": null,
   "metadata": {},
   "outputs": [],
   "source": [
    "inputs = [\n",
    "    dict(\n",
    "        dist_label = \"S4-S7\",\n",
    "        selections = [\n",
    "            dict(name='SG', resid=4),\n",
    "            dict(name='SG', resid=7),\n",
    "        ]\n",
    "    ),\n",
    "    dict(\n",
    "        dist_label = \"N20-N24\",\n",
    "        selections = [\n",
    "            dict(name='NE2', resid=20),\n",
    "            dict(name='NE2', resid=24),\n",
    "        ]\n",
    "    ),\n",
    "    dict(\n",
    "        dist_label = \"N20-S7\",\n",
    "        selections = [\n",
    "            dict(name='NE2', resid=20),\n",
    "            dict(name='SG', resid=7)\n",
    "        ]\n",
    "    ),\n",
    "    dict(\n",
    "        dist_label = \"N24-S7\",\n",
    "        selections = [\n",
    "            dict(name='NE2', resid=24),\n",
    "            dict(name='SG', resid=7)\n",
    "        ]\n",
    "    )\n",
    "]"
   ]
  },
  {
   "cell_type": "code",
   "execution_count": null,
   "metadata": {},
   "outputs": [],
   "source": [
    "fig, axes = plot(unis, inputs)"
   ]
  },
  {
   "cell_type": "code",
   "execution_count": null,
   "metadata": {},
   "outputs": [],
   "source": [
    "pp.gca().set_xlim(2.55,4)\n",
    "axes[0][0].xaxis.set_major_formatter(FormatStrFormatter('%.1f'))"
   ]
  },
  {
   "cell_type": "code",
   "execution_count": null,
   "metadata": {
    "scrolled": true
   },
   "outputs": [],
   "source": [
    "axes[0][1].legend()\n"
   ]
  },
  {
   "cell_type": "code",
   "execution_count": null,
   "metadata": {},
   "outputs": [],
   "source": [
    "fig.savefig(\"Distance_distributions_cross.png\")"
   ]
  }
 ],
 "metadata": {
  "hide_input": false,
  "kernelspec": {
   "display_name": "Python [conda env:root] *",
   "language": "python",
   "name": "conda-root-py"
  },
  "language_info": {
   "codemirror_mode": {
    "name": "ipython",
    "version": 3
   },
   "file_extension": ".py",
   "mimetype": "text/x-python",
   "name": "python",
   "nbconvert_exporter": "python",
   "pygments_lexer": "ipython3",
   "version": "3.7.10"
  }
 },
 "nbformat": 4,
 "nbformat_minor": 4
}
