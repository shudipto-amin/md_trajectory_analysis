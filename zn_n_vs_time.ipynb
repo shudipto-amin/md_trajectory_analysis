{
 "cells": [
  {
   "cell_type": "code",
   "execution_count": null,
   "id": "bada69de-1057-4353-b811-7444796ffa71",
   "metadata": {},
   "outputs": [],
   "source": [
    "import MDAnalysis as mda\n",
    "import numpy as np\n",
    "import matplotlib as mpl\n",
    "import matplotlib.pyplot as pp\n",
    "import analyse as ana\n",
    "from scipy.stats import gaussian_kde as kde\n",
    "from IPython.display import display, Markdown, Latex\n",
    "from matplotlib.ticker import FormatStrFormatter\n",
    "%matplotlib widget"
   ]
  },
  {
   "cell_type": "code",
   "execution_count": null,
   "id": "a93d972c-6f13-4ec3-9834-0e5315e1bacf",
   "metadata": {},
   "outputs": [],
   "source": [
    "from matplotlib.font_manager import FontProperties\n",
    "\n",
    "textwidth = 6.50128 # latex textwidth\n",
    "\n",
    "font0 = FontProperties()\n",
    "\n",
    "font = font0.copy()\n",
    "font.set_family('sans-serif')\n",
    "font.set_style('normal')\n",
    "font.set_weight('bold')\n",
    "font.set_size(16)\n",
    "\n",
    "Title = font.copy()\n",
    "Title.set_size(18)\n",
    "\n",
    "font2 = Title.copy()\n",
    "font2.set_size(12)\n",
    "\n",
    "font3 = font.copy()\n",
    "font3.set_size(12)\n",
    "font3.set_weight('normal')\n",
    "\n",
    "mpl.rcParams['lines.linewidth'] = 1\n",
    "mpl.rcParams['axes.titlesize'] = 18\n",
    "mpl.rcParams['axes.labelsize'] = 16\n",
    "mpl.rcParams['font.size'] = 12\n",
    "mpl.rcParams['xtick.labelsize'] = 10\n",
    "mpl.rcParams['ytick.labelsize'] = 10\n",
    "mpl.rcParams['axes.labelweight'] = 'bold'\n",
    "mpl.rcParams['font.family'] = 'sans-serif'\n",
    "\n",
    "mpl.rcParams['figure.figsize'] = (textwidth, 4)"
   ]
  },
  {
   "cell_type": "code",
   "execution_count": null,
   "id": "9e14e387-0951-46a3-89f4-c6f83a3b460d",
   "metadata": {},
   "outputs": [],
   "source": [
    "resid_offset = 1 # output (Simulation) resid minus input (NMR) resid\n",
    "\n",
    "### Parameter sets\n",
    "\n",
    "parsets = [\n",
    "   'CTPOL', 'opt-CTPOL', 'OPLS-AA', 'opt-OPLS-AA'\n",
    "]\n",
    "\n",
    "ref = 'trajectories/input.pdb'\n",
    "\n",
    "### Inputs for angle calculating function\n",
    "\n",
    "inputs = [\n",
    "    dict(\n",
    "        dist_label = \"N20-Zn\",\n",
    "        selections = [\n",
    "            dict(name='NE2', resid=20),\n",
    "            dict(name='ZN')\n",
    "        ]\n",
    "    ),\n",
    "    dict(\n",
    "        dist_label = \"N24-Zn\",\n",
    "        selections = [\n",
    "            dict(name='NE2', resid=24),\n",
    "            dict(name='ZN')\n",
    "        ]\n",
    "    )\n",
    "]\n",
    "\n",
    "xpad = 0.1\n",
    "\n",
    "### Get Universes\n",
    "\n",
    "\n",
    "unis = dict(NMR=ana.Universe(ref, ref))\n",
    "for par in parsets:\n",
    "    dcd = f\"trajectories/MD-1ZNF/{par}/centered_output.dcd\"\n",
    "    unis[par] = ana.Universe('output.pdb', dcd)"
   ]
  },
  {
   "cell_type": "code",
   "execution_count": null,
   "id": "737c9b64-b9fc-4206-a1bc-28910259d8a4",
   "metadata": {},
   "outputs": [],
   "source": [
    "fig, ax = pp.subplots()\n",
    "\n",
    "seltxt1 = \"name NE2 and (resid 20 or resid 24)\"\n",
    "seltxt2 = \"name ZN\"\n",
    "\n",
    "for par in parsets:\n",
    "    \n",
    "    uni = unis[par]\n",
    "    sels = [uni.select_atoms(s) for s in (seltxt1, seltxt2)]\n",
    "\n",
    "\n",
    "    \n",
    "    dists = uni.get_distances(*sels)\n",
    "        \n",
    "    \n",
    "        \n",
    "    avg_dist = np.average(dists, axis=1)\n",
    "    x = np.linspace(0, 40, len(avg_dist))\n",
    "    \n",
    "    ax.plot(x, avg_dist, label=par)\n",
    "\n",
    "\n",
    "ax.set_xlim(0, 40)\n",
    "ax.set_ylim(0, None)\n",
    "ax.set_xlabel(\"Time (ns)\")\n",
    "ax.set_ylabel(\"Zn-N ($\\AA$)\")\n",
    "\n",
    "ax.legend()\n",
    "fig.tight_layout()\n"
   ]
  },
  {
   "cell_type": "code",
   "execution_count": null,
   "id": "126d100d-9cd5-47ac-895d-fc24f853ae82",
   "metadata": {},
   "outputs": [],
   "source": [
    "fig.savefig(\"Images/Zn-N_vs_Time.pdf\", dpi=300)"
   ]
  },
  {
   "cell_type": "code",
   "execution_count": null,
   "id": "d5bc98d4-5516-4a7d-8084-fc7fe8bf9788",
   "metadata": {},
   "outputs": [],
   "source": [
    "help(fig.savefig)"
   ]
  }
 ],
 "metadata": {
  "kernelspec": {
   "display_name": "Python 3 (ipykernel)",
   "language": "python",
   "name": "python3"
  },
  "language_info": {
   "codemirror_mode": {
    "name": "ipython",
    "version": 3
   },
   "file_extension": ".py",
   "mimetype": "text/x-python",
   "name": "python",
   "nbconvert_exporter": "python",
   "pygments_lexer": "ipython3",
   "version": "3.10.8"
  }
 },
 "nbformat": 4,
 "nbformat_minor": 5
}
