{
 "cells": [
  {
   "cell_type": "code",
   "execution_count": null,
   "metadata": {
    "hide_input": true
   },
   "outputs": [],
   "source": [
    "import MDAnalysis as mda\n",
    "import numpy as np\n",
    "import matplotlib as mpl\n",
    "import matplotlib.pyplot as pp\n",
    "import analyse as ana\n",
    "from scipy.stats import gaussian_kde as kde\n",
    "from IPython.display import display, Markdown, Latex\n",
    "import nglview as nv\n",
    "from importlib import reload\n",
    "%matplotlib widget"
   ]
  },
  {
   "cell_type": "markdown",
   "metadata": {},
   "source": [
    "## Functions, definitions, and universe creations."
   ]
  },
  {
   "cell_type": "code",
   "execution_count": null,
   "metadata": {
    "hide_input": true
   },
   "outputs": [],
   "source": [
    "def plot(axes, unis, inputs, uni_func, parse_func):\n",
    "    for n, inp in enumerate(inputs):\n",
    "        ax = axes.flatten()[n]\n",
    "        ax.set_title(inp['label'])\n",
    "\n",
    "        for par, uni in unis.items():\n",
    "            #display(Markdown(f'## {par}'))\n",
    "            sels = parse_func(inp, par)\n",
    "            data = getattr(uni, uni_func)(*sels)\n",
    "            _, bins = np.histogram(data)\n",
    "            #print(data)\n",
    "            \n",
    "            data_range = np.linspace(bins[0], bins[-1], 200)\n",
    "            \n",
    "            kwargs = dict(label=par)\n",
    "            if par == 'NMR': \n",
    "                kwargs['color'] = 'k'\n",
    "                kwargs['linestyle'] = '--'\n",
    "\n",
    "                \n",
    "            lines = ax.plot(data_range, kde(data)(data_range), **kwargs)\n",
    "\n",
    "            mean = np.mean(data)\n",
    "            kwargs['color'] = lines[-1].get_color()\n",
    "            kwargs['label'] = None\n",
    "            ax.axvline(mean, **kwargs)\n",
    "            \n",
    "\n",
    "### Parameter sets\n",
    "\n",
    "parsets = [\n",
    "   'CTPOL', 'opt-CTPOL'\n",
    "]\n",
    "\n",
    "ref = 'trajectories/input.pdb'\n",
    "\n",
    "### Inputs for angle calculating function\n",
    "\n",
    "### Get Universes\n",
    "\n",
    "reload(ana)\n",
    "\n",
    "unis = dict(NMR=ana.Universe(ref, ref))\n",
    "for par in parsets:\n",
    "    dcd = f\"trajectories/MD-1ZNF/{par}/centered_output.dcd\"\n",
    "    unis[par] = ana.Universe('output.pdb', dcd)\n",
    "\n",
    "### Plot"
   ]
  },
  {
   "cell_type": "markdown",
   "metadata": {},
   "source": [
    "## Distributions of various angles"
   ]
  },
  {
   "cell_type": "code",
   "execution_count": null,
   "metadata": {
    "hide_input": true
   },
   "outputs": [],
   "source": [
    "inputs = [\n",
    "    dict(\n",
    "        label = \"S4-Zn-S7\",\n",
    "        selections = [\n",
    "            dict(name='SG', resid=4),\n",
    "            dict(name='ZN'),\n",
    "            dict(name='SG', resid=7)\n",
    "        ]\n",
    "    ),\n",
    "    dict(\n",
    "        label = \"N20-Zn-N24\",\n",
    "        selections = [\n",
    "            dict(name='NE2', resid=20),\n",
    "            dict(name='ZN'),\n",
    "            dict(name='NE2', resid=24)\n",
    "        ]\n",
    "    ),\n",
    "    dict(\n",
    "        label = \"S4-Zn-N20\",\n",
    "        selections = [\n",
    "            dict(name='SG', resid=4),\n",
    "            dict(name='ZN'),\n",
    "            dict(name='NE2', resid=20)\n",
    "        ]\n",
    "    ),\n",
    "    dict(\n",
    "        label = \"S4-Zn-N24\",\n",
    "        selections = [\n",
    "            dict(name='SG', resid=4),\n",
    "            dict(name='ZN'),\n",
    "            dict(name='NE2', resid=24)\n",
    "        ]\n",
    "        )\n",
    "]\n",
    "\n",
    "def parse_angles(inp, par):\n",
    "    sels = []\n",
    "    for s in inp['selections']:\n",
    "        sel = s.copy()\n",
    "        if 'resid' in sel:\n",
    "            sel['resid'] -= (par == 'NMR')*1\n",
    "            \n",
    "        seltxt = ' and '.join(\n",
    "            [f'{k} {v}' for k, v in sel.items()]\n",
    "        )\n",
    "        sels.append(unis[par].select_atoms(seltxt))\n",
    "    return sels"
   ]
  },
  {
   "cell_type": "code",
   "execution_count": null,
   "metadata": {
    "hide_input": false
   },
   "outputs": [],
   "source": [
    "fig, axes = pp.subplots(2,2, sharex=True, sharey=True)\n",
    "fig.suptitle(\"Probability distribution of angles (in degrees)\")   \n",
    "\n",
    "\n",
    "fig.set_size_inches(7,5)\n",
    "fig.tight_layout()\n",
    "fig.subplots_adjust(\n",
    "    wspace=0.05\n",
    ")\n",
    "\n",
    "plot(axes, unis, inputs, 'get_angles', parse_angles)"
   ]
  },
  {
   "cell_type": "code",
   "execution_count": null,
   "metadata": {
    "hide_input": false
   },
   "outputs": [],
   "source": [
    "pp.gca().set_xlim(85,135)\n",
    "pp.gca().set_ylim(0, None)"
   ]
  },
  {
   "cell_type": "code",
   "execution_count": null,
   "metadata": {
    "hide_input": false
   },
   "outputs": [],
   "source": [
    "fig.savefig('Angular_distributions.png')"
   ]
  },
  {
   "cell_type": "markdown",
   "metadata": {},
   "source": [
    "## A view of the protein"
   ]
  },
  {
   "cell_type": "code",
   "execution_count": null,
   "metadata": {
    "hide_input": true,
    "scrolled": true
   },
   "outputs": [],
   "source": [
    "uni = unis['CTPOL']\n",
    "protein = uni.select_atoms('protein')\n",
    "site = uni.select_atoms('same residue as (around 3 name ZN)')\n",
    "zn = uni.select_atoms('name ZN')\n",
    "view = nv.show_mdanalysis(protein)\n",
    "view"
   ]
  },
  {
   "cell_type": "code",
   "execution_count": null,
   "metadata": {
    "hide_input": true
   },
   "outputs": [],
   "source": [
    "view.add_trajectory(site)\n",
    "view[-1].add_representation('ball+stick')\n",
    "view.add_trajectory(zn)\n",
    "view[-1].add_representation('ball+stick')"
   ]
  },
  {
   "cell_type": "markdown",
   "metadata": {},
   "source": [
    "## Distributions of dihedrals and other angles between planes"
   ]
  },
  {
   "cell_type": "markdown",
   "metadata": {},
   "source": [
    "### Angles between the two Histidine planes"
   ]
  },
  {
   "cell_type": "code",
   "execution_count": null,
   "metadata": {
    "hide_input": true
   },
   "outputs": [],
   "source": [
    "inputs = [\n",
    "    dict(\n",
    "        label = \"Angle between His1 and His2 planes\",\n",
    "        selections = [\n",
    "            dict(atoms='(name CG or name CD2 or name CE1)', resid=20),\n",
    "            dict(atoms='(name CG or name CD2 or name CE1)', resid=24)\n",
    "        ]\n",
    "    ),\n",
    "    dict(\n",
    "        label = \"Angle between His1 C and His1 N planes\",\n",
    "        selections = [\n",
    "            dict(atoms='(name CG or name CD2 or name CE1)', resid=20),\n",
    "            dict(atoms='(name CG or name ND1 or name NE2)', resid=20)\n",
    "        ]\n",
    "    ), \n",
    "]\n",
    "\n",
    "def parse_his(inp, par):\n",
    "    sels = []\n",
    "    for s in inp['selections']:\n",
    "        sel = s.copy()\n",
    "        if 'resid' in sel:\n",
    "            sel['resid'] -= (par == 'NMR')*1\n",
    "            \n",
    "        seltxt = f'{sel[\"atoms\"]} and resid {sel[\"resid\"]}'\n",
    "        sels.append(unis[par].select_atoms(seltxt))\n",
    "    return sels    \n",
    "\n",
    "fig, axes = pp.subplots(2,1)\n",
    "fig.subplots_adjust(hspace=0.3)\n",
    "plot(axes, unis, inputs, 'get_dihedral', parse_his)"
   ]
  },
  {
   "cell_type": "code",
   "execution_count": null,
   "metadata": {},
   "outputs": [],
   "source": [
    "axes[0].set_xlim(20, 150)\n",
    "axes[1].set_xlim(165, 180)\n",
    "for ax in axes:\n",
    "    ax.set_ylim(0, None)"
   ]
  },
  {
   "cell_type": "code",
   "execution_count": null,
   "metadata": {
    "hide_input": true,
    "scrolled": true
   },
   "outputs": [],
   "source": [
    "leg = axes[0].legend()"
   ]
  },
  {
   "cell_type": "code",
   "execution_count": null,
   "metadata": {},
   "outputs": [],
   "source": [
    "fig.savefig('ang_between_his.png')"
   ]
  },
  {
   "cell_type": "markdown",
   "metadata": {},
   "source": [
    "### Dihedral between S-ZN-S and N-Zn-N planes"
   ]
  },
  {
   "cell_type": "code",
   "execution_count": null,
   "metadata": {
    "hide_input": true
   },
   "outputs": [],
   "source": [
    "def parse_binding(inp, par):\n",
    "    sels = []\n",
    "    for plane in inp['selections']:\n",
    "        atoms = []\n",
    "        for s in plane:\n",
    "            sel = s.copy()\n",
    "            if 'resid' in sel:\n",
    "                sel['resid'] -= (par == 'NMR')*1\n",
    "            \n",
    "            seltxt = ' and '.join(\n",
    "                [f'{k} {v}' for k, v in sel.items()]\n",
    "            )\n",
    "            \n",
    "            atoms.append(unis[par].select_atoms(seltxt))\n",
    "        sels.append(sum(atoms))\n",
    "    return sels \n",
    "\n",
    "inputs = [\n",
    "    dict(\n",
    "        label = \"Angle between N-Zn-N and S-Zn-S planes\",\n",
    "        selections = [\n",
    "            [\n",
    "                dict(name='SG', resid=4),\n",
    "                dict(name='ZN'),\n",
    "                dict(name='SG', resid=7)\n",
    "            ],\n",
    "            [\n",
    "                dict(name='NE2', resid=20),\n",
    "                dict(name='ZN'),\n",
    "                dict(name='NE2', resid=24)\n",
    "            ]\n",
    "        ]\n",
    "    )\n",
    "]\n"
   ]
  },
  {
   "cell_type": "code",
   "execution_count": null,
   "metadata": {
    "hide_input": true
   },
   "outputs": [],
   "source": [
    "fig, ax = pp.subplots()\n",
    "fig.subplots_adjust(hspace=0.3)\n",
    "plot(np.array([ax]), unis, inputs, 'get_dihedral', parse_binding)"
   ]
  },
  {
   "cell_type": "code",
   "execution_count": null,
   "metadata": {},
   "outputs": [],
   "source": [
    "ax.set_xlim(40,150)\n",
    "ax.set_ylim(0, None)"
   ]
  },
  {
   "cell_type": "code",
   "execution_count": null,
   "metadata": {
    "hide_input": true
   },
   "outputs": [],
   "source": [
    "leg = ax.legend()"
   ]
  },
  {
   "cell_type": "code",
   "execution_count": null,
   "metadata": {},
   "outputs": [],
   "source": [
    "fig.savefig('dihedral_between_SZnS_NZnN.png')"
   ]
  },
  {
   "cell_type": "markdown",
   "metadata": {},
   "source": [
    "### Angle between bisectors of S-ZN-S and N-ZN-N"
   ]
  },
  {
   "cell_type": "code",
   "execution_count": null,
   "metadata": {
    "hide_input": true
   },
   "outputs": [],
   "source": [
    "inputs = [\n",
    "    dict(\n",
    "        label = \"Angle between N-Zn-N and S-Zn-S bisectors\",\n",
    "        selections = [\n",
    "            [\n",
    "                dict(name='SG', resid=4),\n",
    "                dict(name='ZN'),\n",
    "                dict(name='SG', resid=7)\n",
    "            ],\n",
    "            [\n",
    "                dict(name='NE2', resid=20),\n",
    "                dict(name='ZN'),\n",
    "                dict(name='NE2', resid=24)\n",
    "            ]\n",
    "        ]\n",
    "    )\n",
    "]"
   ]
  },
  {
   "cell_type": "code",
   "execution_count": null,
   "metadata": {
    "hide_input": true
   },
   "outputs": [],
   "source": [
    "fig, ax = pp.subplots()\n",
    "fig.subplots_adjust(hspace=0.3)\n",
    "plot(np.array([ax]), unis, inputs, 'get_bisector_angles', parse_binding)"
   ]
  },
  {
   "cell_type": "code",
   "execution_count": null,
   "metadata": {},
   "outputs": [],
   "source": [
    "ax.set_xlim(80, None)\n",
    "ax.set_ylim(0, None)"
   ]
  },
  {
   "cell_type": "code",
   "execution_count": null,
   "metadata": {
    "hide_input": true
   },
   "outputs": [],
   "source": [
    "leg = ax.legend()"
   ]
  },
  {
   "cell_type": "code",
   "execution_count": null,
   "metadata": {},
   "outputs": [],
   "source": [
    "fig.savefig('bisector_angles.png')"
   ]
  },
  {
   "cell_type": "markdown",
   "metadata": {},
   "source": [
    "# Todos\n",
    "* See how we calculate chargs transfer (plot $\\Delta$q vs $r$)\n",
    "* Rerun with more frequent update of CT.\n",
    "* Describe polarization"
   ]
  }
 ],
 "metadata": {
  "hide_input": false,
  "kernelspec": {
   "display_name": "Python 3 (ipykernel)",
   "language": "python",
   "name": "python3"
  },
  "language_info": {
   "codemirror_mode": {
    "name": "ipython",
    "version": 3
   },
   "file_extension": ".py",
   "mimetype": "text/x-python",
   "name": "python",
   "nbconvert_exporter": "python",
   "pygments_lexer": "ipython3",
   "version": "3.9.13"
  }
 },
 "nbformat": 4,
 "nbformat_minor": 4
}
