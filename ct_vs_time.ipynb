{
 "cells": [
  {
   "cell_type": "markdown",
   "metadata": {},
   "source": [
    "# Input file requirements:\n",
    "`./CT-data.dat`"
   ]
  },
  {
   "cell_type": "code",
   "execution_count": null,
   "metadata": {},
   "outputs": [],
   "source": [
    "import numpy as np\n",
    "import MDAnalysis as mda\n",
    "import matplotlib.pyplot as pp\n",
    "import pandas as pd\n",
    "import matplotlib as mpl\n",
    "from matplotlib import gridspec\n",
    "from MDAnalysis.analysis.rms import RMSD\n",
    "from scipy import stats\n",
    "from IPython.display import Markdown\n",
    "\n",
    "\n",
    "%matplotlib notebook\n",
    "print(mpl.__version__)"
   ]
  },
  {
   "cell_type": "code",
   "execution_count": null,
   "metadata": {},
   "outputs": [],
   "source": [
    "def get_density(vals, *args, **kwargs):\n",
    "    kernel = stats.gaussian_kde(vals, *args, **kwargs)\n",
    "\n",
    "    x = np.linspace(min(vals), max(vals), 1000)\n",
    "    y = kernel(x)\n",
    "\n",
    "    return x, y"
   ]
  },
  {
   "cell_type": "code",
   "execution_count": null,
   "metadata": {},
   "outputs": [],
   "source": [
    "df_ct = pd.read_csv('trajectories/MD-1ZNF/CT-data.dat', sep='\\s+', skiprows=[1])\n",
    "SimTime = 40\n",
    "dt = SimTime/df_ct.shape[0]\n",
    "\n",
    "df_ct['Time'] = np.arange(dt, SimTime+0.5*dt, dt)\n",
    "\n",
    "dist_files = {\n",
    "    at:f'trajectories/MD-1ZNF/{at}-Zn-dist.dat' for at in 'N1 N2 S1 S2'.split()\n",
    "}\n",
    "\n",
    "inds = []\n",
    "for n, (at, dist_file) in enumerate(dist_files.items()):\n",
    "    inds.extend([(at, 'CTPOL'), (at, 'opt-CTPOL')])\n",
    "    _df = pd.read_csv(\n",
    "        dist_file, sep='\\s+', \n",
    "        skiprows=1, \n",
    "        names=[f'CTPOL_{at}', f'opt-CTPOL_{at}'],\n",
    "        \n",
    "    )\n",
    "    _df.index = np.arange(dt, SimTime+0.5*dt, dt)\n",
    "    if n == 0:\n",
    "        df_dist = _df\n",
    "    else:\n",
    "        df_dist = pd.merge(df_dist, _df, left_index=True, right_index=True)\n",
    "\n",
    "        \n",
    "display(df_ct)\n",
    "df_dist.columns = pd.MultiIndex.from_tuples(inds, names=['Atom', 'FF'])\n",
    "df_dist.index.name = 'Time'\n",
    "display(df_dist)\n"
   ]
  },
  {
   "cell_type": "code",
   "execution_count": null,
   "metadata": {},
   "outputs": [],
   "source": [
    "df_dist_ctpol = df_dist.xs(\"CTPOL\", level=\"FF\", axis=1)\n",
    "df_dist_opt = df_dist.xs(\"opt-CTPOL\", level=\"FF\", axis=1)\n",
    "\n",
    "nums = '0123456789'\n",
    "\n",
    "mean_df = df_dist_ctpol.groupby(\n",
    "    by=lambda x: x.strip(nums),\n",
    "    axis=1\n",
    ").mean()\n",
    "\n"
   ]
  },
  {
   "cell_type": "code",
   "execution_count": null,
   "metadata": {
    "scrolled": false
   },
   "outputs": [],
   "source": [
    "fig, ax = pp.subplots()\n",
    "fig.set_size_inches(7,4)\n",
    "\n",
    "ax2 = ax.twinx()\n",
    "ax.set_zorder(ax2.get_zorder()+1)\n",
    "ax.patch.set_visible(False)\n",
    "\n",
    "df_ct.plot(\n",
    "    x=\"Time\", y=\"CTPOL\", \n",
    "    ax=ax2, \n",
    "    alpha=0.5, \n",
    "    label=\"Charge Transfer\",\n",
    "    zorder=1,\n",
    "    legend=False)\n",
    "\n",
    "mean_df.plot(ax=ax, color='green orange'.split(), legend=False)\n",
    "\n",
    "ax.set_xlim(0,40)\n",
    "ax.set_ylabel('Distance (nm)')\n",
    "ax2.set_ylabel('Charge Transfer')\n",
    "ax.set_xlabel(\"Time (ns)\")\n",
    "\n",
    "leg = ax.legend()\n",
    "for lh in leg.legendHandles: \n",
    "    lh.set_alpha(1)"
   ]
  },
  {
   "cell_type": "code",
   "execution_count": null,
   "metadata": {},
   "outputs": [],
   "source": []
  },
  {
   "cell_type": "code",
   "execution_count": null,
   "metadata": {},
   "outputs": [],
   "source": [
    "\n",
    "fig = pp.figure()\n",
    "fig.set_size_inches(8,5)\n",
    "gs = gridspec.GridSpec(1, 3)\n",
    "gs.update(hspace=0.01, wspace=0.01)\n",
    "\n",
    "\n",
    "\n",
    "ax_left = fig.add_subplot(gs[0, 0:2])\n",
    "ticks = ax_left.get_xticks\n",
    "\n",
    "ax_right = fig.add_subplot(gs[0, 2], sharey=ax_left)\n",
    "\n",
    "\n",
    "ax_left.set_xlabel(r\"Time (ns)\", fontsize=16)\n",
    "\n",
    "ax_right.yaxis.set_visible(False)\n",
    "ax_right.xaxis.set_visible(False)\n",
    "\n",
    "'''\n",
    "ax_left.text(\n",
    "    0.5, 0.7, sel[0], \n",
    "    horizontalalignment='left',\n",
    "    verticalalignment='bottom',\n",
    "    transform=ax_left.transAxes,\n",
    "    fontsize=14\n",
    ")\n",
    "'''\n",
    "df_ct.plot(\n",
    "    x='Time',\n",
    "    ax=ax_left\n",
    ")\n",
    "\n",
    "for pol in df_ct:\n",
    "    if pol == 'Time': continue\n",
    "    x, y = get_density(df_ct[pol], bw_method=0.1)\n",
    "    \n",
    "    ax_right.plot(y, x, label=pol)\n",
    "\n",
    "\n",
    "ax_right.set_xlim(left=0)\n",
    "ax_left.set_xlim(min(df_ct.Time), max(df_ct.Time)) \n",
    "\n",
    "ax_right.legend()\n",
    "fig.text(\n",
    "    0.04, 0.5, r\"Charge transfer [e]\", \n",
    "    va='center', rotation='vertical', fontsize=16\n",
    ")\n",
    "\n",
    "fig.tight_layout()\n",
    "pp.show()"
   ]
  },
  {
   "cell_type": "code",
   "execution_count": null,
   "metadata": {},
   "outputs": [],
   "source": [
    "df_outlier = mean_df.N[mean_df.N > 0.3]\n",
    "\n",
    "times = df_outlier.index\n",
    "\n",
    "exceeds_at = []\n",
    "cur_int = 0\n",
    "for t in times:\n",
    "    if int(t) > cur_int:\n",
    "        cur_int = int(t)\n",
    "        exceeds_at.append(t % 1)\n",
    "        \n",
    "exceeds_at"
   ]
  }
 ],
 "metadata": {
  "hide_input": false,
  "kernelspec": {
   "display_name": "Python 3 (ipykernel)",
   "language": "python",
   "name": "python3"
  },
  "language_info": {
   "codemirror_mode": {
    "name": "ipython",
    "version": 3
   },
   "file_extension": ".py",
   "mimetype": "text/x-python",
   "name": "python",
   "nbconvert_exporter": "python",
   "pygments_lexer": "ipython3",
   "version": "3.9.7"
  }
 },
 "nbformat": 4,
 "nbformat_minor": 4
}
