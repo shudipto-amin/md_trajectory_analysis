{
 "cells": [
  {
   "cell_type": "markdown",
   "metadata": {},
   "source": [
    "# Input file requirements:\n",
    "`./CT-data.dat`"
   ]
  },
  {
   "cell_type": "code",
   "execution_count": null,
   "metadata": {},
   "outputs": [],
   "source": [
    "import numpy as np\n",
    "import MDAnalysis as mda\n",
    "import matplotlib.pyplot as pp\n",
    "import pandas as pd\n",
    "\n",
    "from matplotlib import gridspec\n",
    "from MDAnalysis.analysis.rms import RMSD\n",
    "from scipy import stats\n",
    "from IPython.display import Markdown\n",
    "\n",
    "\n",
    "%matplotlib notebook"
   ]
  },
  {
   "cell_type": "code",
   "execution_count": null,
   "metadata": {},
   "outputs": [],
   "source": [
    "def get_density(vals, *args, **kwargs):\n",
    "    kernel = stats.gaussian_kde(vals, *args, **kwargs)\n",
    "\n",
    "    x = np.linspace(min(vals), max(vals), 1000)\n",
    "    y = kernel(x)\n",
    "\n",
    "    return x, y"
   ]
  },
  {
   "cell_type": "code",
   "execution_count": null,
   "metadata": {},
   "outputs": [],
   "source": [
    "df = pd.read_csv('CT-data.dat', sep='\\s+')\n",
    "SimTime = 40\n",
    "\n",
    "df['Time'] = np.arange(0, SimTime, SimTime/df.shape[0])\n"
   ]
  },
  {
   "cell_type": "code",
   "execution_count": null,
   "metadata": {},
   "outputs": [],
   "source": [
    "\n",
    "fig = pp.figure()\n",
    "fig.set_size_inches(8,5)\n",
    "gs = gridspec.GridSpec(1, 3)\n",
    "gs.update(hspace=0.01, wspace=0.01)\n",
    "\n",
    "\n",
    "\n",
    "ax_left = fig.add_subplot(gs[0, 0:2])\n",
    "ticks = ax_left.get_xticks\n",
    "\n",
    "ax_right = fig.add_subplot(gs[0, 2], sharey=ax_left)\n",
    "\n",
    "\n",
    "ax_left.set_xlabel(r\"Time (ns)\", fontsize=16)\n",
    "\n",
    "ax_right.yaxis.set_visible(False)\n",
    "ax_right.xaxis.set_visible(False)\n",
    "\n",
    "'''\n",
    "ax_left.text(\n",
    "    0.5, 0.7, sel[0], \n",
    "    horizontalalignment='left',\n",
    "    verticalalignment='bottom',\n",
    "    transform=ax_left.transAxes,\n",
    "    fontsize=14\n",
    ")\n",
    "'''\n",
    "df.plot(\n",
    "    x='Time',\n",
    "    ax=ax_left\n",
    ")\n",
    "\n",
    "for pol in df:\n",
    "    if pol == 'Time': continue\n",
    "    x, y = get_density(df[pol], bw_method=0.1)\n",
    "    \n",
    "    ax_right.plot(y, x, label=pol)\n",
    "\n",
    "\n",
    "ax_right.set_xlim(left=0)\n",
    "ax_left.set_xlim(min(df.Time), max(df.Time)) \n",
    "\n",
    "ax_right.legend()\n",
    "fig.text(\n",
    "    0.04, 0.5, r\"Charge transfer [e]\", \n",
    "    va='center', rotation='vertical', fontsize=16\n",
    ")\n",
    "\n",
    "fig.tight_layout()\n",
    "pp.show()"
   ]
  },
  {
   "cell_type": "code",
   "execution_count": null,
   "metadata": {},
   "outputs": [],
   "source": []
  }
 ],
 "metadata": {
  "hide_input": false,
  "kernelspec": {
   "display_name": "Python 3",
   "language": "python",
   "name": "python3"
  },
  "language_info": {
   "codemirror_mode": {
    "name": "ipython",
    "version": 3
   },
   "file_extension": ".py",
   "mimetype": "text/x-python",
   "name": "python",
   "nbconvert_exporter": "python",
   "pygments_lexer": "ipython3",
   "version": "3.7.10"
  }
 },
 "nbformat": 4,
 "nbformat_minor": 4
}
