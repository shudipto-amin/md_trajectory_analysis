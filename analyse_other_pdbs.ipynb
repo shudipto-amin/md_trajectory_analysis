{
 "cells": [
  {
   "cell_type": "code",
   "execution_count": null,
   "metadata": {},
   "outputs": [],
   "source": [
    "import numpy as np\n",
    "import MDAnalysis as mda\n",
    "import pandas as pd\n",
    "import matplotlib.pyplot as pp\n",
    "import urllib.request\n",
    "from MDAnalysis.analysis import distances\n",
    "from IPython.display import Markdown, HTML\n",
    "%matplotlib widget"
   ]
  },
  {
   "cell_type": "markdown",
   "metadata": {},
   "source": [
    "# PDB Ids\n",
    "Retrieve PDBs (done already, no need to do again unless changed)"
   ]
  },
  {
   "cell_type": "code",
   "execution_count": null,
   "metadata": {},
   "outputs": [],
   "source": [
    "download = False # True to downloadn\n",
    "pdb_ids = '1mey 4qf3 6uei 6uej 2puy 6fi1 6fhq 5yc3'.split()\n",
    "pdb_ids += '3t7l 3u9g 4q6f 3iuf 4bbq 5yc4 5y20'.split()\n",
    "if download: \n",
    "    for pdb_id in pdb_ids:\n",
    "        urllib.request.urlretrieve(\n",
    "            f\"https://files.rcsb.org/download/{pdb_id}.pdb\",\n",
    "            f\"pdbs/{pdb_id}.pdb\")"
   ]
  },
  {
   "cell_type": "markdown",
   "metadata": {},
   "source": [
    "### Total no. of PDBs studied"
   ]
  },
  {
   "cell_type": "code",
   "execution_count": null,
   "metadata": {},
   "outputs": [],
   "source": [
    "len(pdb_ids)"
   ]
  },
  {
   "cell_type": "code",
   "execution_count": null,
   "metadata": {},
   "outputs": [],
   "source": [
    "unis = {}#{'1znf' : mda.Universe(\"input.pdb\")}\n",
    "for pdb_id in pdb_ids:\n",
    "    unis[pdb_id] = mda.Universe(f\"pdbs/{pdb_id}.pdb\")"
   ]
  },
  {
   "cell_type": "code",
   "execution_count": null,
   "metadata": {},
   "outputs": [],
   "source": [
    "def nearby_residues(uni, r=3):\n",
    "    zns = uni.select_atoms('name ZN')\n",
    "    \n",
    "    shells = {}\n",
    "    \n",
    "    for ind in zns.indices:\n",
    "        shell = uni.select_atoms(f'same residue as (around {r} index {ind})')\n",
    "        #residues = [f'{atom.resname}{atom.resid}' for atom in shell]\n",
    "        \n",
    "        shells[ind] = shell.residues\n",
    "        \n",
    "    return shells"
   ]
  },
  {
   "cell_type": "markdown",
   "metadata": {},
   "source": [
    "# Find pdb ids with list of Zincs that match 1ZNF\n",
    "\n",
    "By \"match\" here I mean that there are 2 HIS and 2 CYS within given radius"
   ]
  },
  {
   "cell_type": "code",
   "execution_count": null,
   "metadata": {},
   "outputs": [],
   "source": [
    "matching_zns1 = {}\n",
    "matching_zns2 = {}\n",
    "\n",
    "matching_zns = (matching_zns1, matching_zns2)\n",
    "# Columns for DataFrame\n",
    "df_data = dict(\n",
    "    PDBid = [],\n",
    "    Zn_sites = [],\n",
    "    N4HC = [],\n",
    "    N2H2C = [],\n",
    ")\n",
    "\n",
    "for pid, uni in unis.items():\n",
    "    sel = uni.select_atoms('name ZN')\n",
    "    display(Markdown(f\"### {pid} : {sel.n_atoms} Zn sites \"))\n",
    "    \n",
    "    df_data['PDBid'].append(pid.upper())\n",
    "    df_data['Zn_sites'].append(sel.n_atoms)\n",
    "    \n",
    "    Ns = [0, 0]\n",
    "    for ind, shell in nearby_residues(uni, r=3).items():\n",
    "        his_count = np.count_nonzero(shell.resnames == 'HIS')\n",
    "        cys_count = np.count_nonzero(shell.resnames == 'CYS')\n",
    "        \n",
    "        counts_match1 = his_count + cys_count == 4 \n",
    "        counts_match2 = his_count==2 and cys_count==2\n",
    "        \n",
    "\n",
    "        counts_match = counts_match1 # 2 for exact residue match\n",
    "        \n",
    "        col = 'green' if counts_match else 'red'\n",
    "        display(\n",
    "            Markdown(f'  <span style=\"color:{col}\"> {ind:5d} : {\"--\".join(shell.resnames)} </span>' )\n",
    "        )\n",
    "        \n",
    "        for n, cm in enumerate((counts_match1, counts_match2)):\n",
    "            if cm:\n",
    "                Ns[n] += 1\n",
    "                if pid not in matching_zns[n]:\n",
    "                    matching_zns[n][pid] = []\n",
    "                matching_zns[n][pid].append(ind)\n",
    "\n",
    "    \n",
    "    df_data['N4HC'].append(Ns[0])\n",
    "    df_data['N2H2C'].append(Ns[1])"
   ]
  },
  {
   "cell_type": "markdown",
   "metadata": {},
   "source": [
    "# Get minimum Zn-water distance for each matching binding site"
   ]
  },
  {
   "cell_type": "code",
   "execution_count": null,
   "metadata": {
    "scrolled": true
   },
   "outputs": [],
   "source": [
    "\n",
    "\n",
    "label = 'Min H2O dist'\n",
    "\n",
    "df_data[label] = np.ones(len(df_data['PDBid'])) * np.nan\n",
    "\n",
    "df = pd.DataFrame(df_data)\n",
    "\n",
    "for n, mz in enumerate(matching_zns):\n",
    "\n",
    "    for pid, inds in mz.items():\n",
    "        smallest_d = 9\n",
    "        mind = 9\n",
    "        display(Markdown(f\"## {pid}\"))\n",
    "        for ind in inds:\n",
    "            uni = unis[pid]\n",
    "            zn = uni.select_atoms(f'index {ind}')\n",
    "            waters = uni.select_atoms('resname HOH')\n",
    "            dists = distances.distance_array(zn.positions, waters.positions)\n",
    "\n",
    "            if len(waters.positions):\n",
    "                mind = np.min(dists)\n",
    "            else:\n",
    "                print(\"No waters\")\n",
    "                continue\n",
    "\n",
    "            if smallest_d > mind:\n",
    "                smallest_d = mind\n",
    "\n",
    "            if mind < 4: \n",
    "                col = 'red'\n",
    "            else:\n",
    "                col = 'white'\n",
    "            display(Markdown(f' <span style=\"color:{col}\"> {ind} : {mind:4.2f} </span>'))\n",
    "        df[label][df.PDBid == pid.upper()] = smallest_d\n",
    "        print(smallest_d)"
   ]
  },
  {
   "cell_type": "code",
   "execution_count": null,
   "metadata": {},
   "outputs": [],
   "source": [
    "df"
   ]
  },
  {
   "cell_type": "code",
   "execution_count": null,
   "metadata": {},
   "outputs": [],
   "source": [
    "\n",
    "#help(df.to_latex)\n",
    "print(\n",
    "df.to_latex(float_format=\"%4.2f\", column_format='|c|c|c|c|c|', index=False)\n",
    ")"
   ]
  }
 ],
 "metadata": {
  "hide_input": false,
  "kernelspec": {
   "display_name": "Python 3 (ipykernel)",
   "language": "python",
   "name": "python3"
  },
  "language_info": {
   "codemirror_mode": {
    "name": "ipython",
    "version": 3
   },
   "file_extension": ".py",
   "mimetype": "text/x-python",
   "name": "python",
   "nbconvert_exporter": "python",
   "pygments_lexer": "ipython3",
   "version": "3.10.8"
  }
 },
 "nbformat": 4,
 "nbformat_minor": 4
}
